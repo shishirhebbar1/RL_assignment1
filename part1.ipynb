{
 "cells": [
  {
   "cell_type": "code",
   "execution_count": 3,
   "metadata": {},
   "outputs": [],
   "source": [
    "import gym\n",
    "import matplotlib.image as mpimg\n",
    "from gym import spaces"
   ]
  },
  {
   "cell_type": "code",
   "execution_count": 6,
   "metadata": {},
   "outputs": [],
   "source": [
    "class WarehouseRobotEnv(gym.Env):\n",
    "    def __init__(self):\n",
    "        super(WarehouseRobotEnv, self).__init__()\n",
    "        self.grid_size = (6, 6)\n",
    "        self.action_space = spaces.Discrete(6)\n",
    "        self.observation_space = spaces.Tuple((\n",
    "            spaces.Discrete(self.grid_size[0]), \n",
    "            spaces.Discrete(self.grid_size[1]),\n",
    "            spaces.Discrete(2)\n",
    "        ))\n",
    "        \n",
    "        self.obstacles = [(2, 2), (3, 3), (1, 4)]\n",
    "        self.pickup_location = (0, 0)\n",
    "        self.dropoff_location = (5, 5)\n",
    "        self.reset()\n",
    "        self.agent_images = [mpimg.imread(\"agent_idle.png\"), mpimg.imread(\"agent_carrying.png\")]\n",
    "        self.background_image = mpimg.imread(\"background.png\")\n",
    "        self.package_image = mpimg.imread(\"package.png\")\n",
    "        self.obstacle_image = mpimg.imread(\"obstacle.png\")\n",
    "\n",
    "    def reset(self):\n",
    "        self.agent_pos = (0, 0)\n",
    "        self.carrying = 0\n",
    "        return self.agent_pos + (self.carrying,)"
   ]
  },
  {
   "cell_type": "code",
   "execution_count": null,
   "metadata": {},
   "outputs": [],
   "source": []
  }
 ],
 "metadata": {
  "kernelspec": {
   "display_name": "Python 3",
   "language": "python",
   "name": "python3"
  },
  "language_info": {
   "codemirror_mode": {
    "name": "ipython",
    "version": 3
   },
   "file_extension": ".py",
   "mimetype": "text/x-python",
   "name": "python",
   "nbconvert_exporter": "python",
   "pygments_lexer": "ipython3",
   "version": "3.11.4"
  }
 },
 "nbformat": 4,
 "nbformat_minor": 2
}
