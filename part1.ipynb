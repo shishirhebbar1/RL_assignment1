{
 "cells": [
  {
   "cell_type": "code",
   "execution_count": 9,
   "metadata": {},
   "outputs": [],
   "source": [
    "import gym\n",
    "import matplotlib.image as mpimg\n",
    "from gym import spaces\n",
    "import matplotlib.pyplot as plt"
   ]
  },
  {
   "cell_type": "code",
   "execution_count": 10,
   "metadata": {},
   "outputs": [],
   "source": [
    "class WarehouseRobotEnv(gym.Env):\n",
    "    def __init__(self):\n",
    "        super(WarehouseRobotEnv, self).__init__()\n",
    "        self.grid_size = (6, 6)\n",
    "        self.action_space = spaces.Discrete(6)\n",
    "        self.observation_space = spaces.Tuple((\n",
    "            spaces.Discrete(self.grid_size[0]), \n",
    "            spaces.Discrete(self.grid_size[1]),\n",
    "            spaces.Discrete(2)\n",
    "        ))\n",
    "        \n",
    "        self.obstacles = [(2, 2), (3, 3), (1, 4)]\n",
    "        self.pickup_location = (0, 0)\n",
    "        self.dropoff_location = (5, 5)\n",
    "        self.reset()\n",
    "        self.agent_images = [mpimg.imread(\"agent_idle.png\"), mpimg.imread(\"agent_carrying.png\")]\n",
    "        self.background_image = mpimg.imread(\"background.png\")\n",
    "        self.package_image = mpimg.imread(\"package.png\")\n",
    "        self.obstacle_image = mpimg.imread(\"obstacle.png\")\n",
    "\n",
    "    def reset(self):\n",
    "        self.agent_pos = (0, 0)\n",
    "        self.carrying = 0\n",
    "        return self.agent_pos + (self.carrying,)\n",
    "    \n",
    "    def step(self, action):\n",
    "        x, y = self.agent_pos\n",
    "        if action == 0 and y > 0:\n",
    "            y -= 1\n",
    "        elif action == 1 and y < self.grid_size[1] - 1:\n",
    "            y += 1\n",
    "        elif action == 2 and x > 0:\n",
    "            x -= 1\n",
    "        elif action == 3 and x < self.grid_size[0] - 1:\n",
    "            x += 1\n",
    "        elif action == 4 and (x, y) == self.pickup_location:\n",
    "            self.carrying = 1\n",
    "        elif action == 5 and (x, y) == self.dropoff_location and self.carrying:\n",
    "            reward = 100\n",
    "            done = True\n",
    "            return (x, y, self.carrying), reward, done, {}\n",
    "        if (x, y) in self.obstacles:\n",
    "            reward = -20\n",
    "        else:\n",
    "            reward = -1\n",
    "            self.agent_pos = (x, y)\n",
    "        \n",
    "        done = False\n",
    "        return self.agent_pos + (self.carrying,), reward, done, {}\n",
    "    \n",
    "    def render(self):\n",
    "        fig, ax = plt.subplots()\n",
    "        ax.imshow(self.background_image, extent=[0, 6, 0, 6])\n",
    "        \n",
    "        for obs in self.obstacles:\n",
    "            ax.imshow(self.obstacle_image, extent=[obs[0], obs[0]+1, obs[1], obs[1]+1])\n",
    "        \n",
    "        ax.imshow(self.package_image, extent=[self.pickup_location[0], self.pickup_location[0]+1, \n",
    "                                               self.pickup_location[1], self.pickup_location[1]+1])\n",
    "        ax.imshow(self.agent_images[self.carrying], extent=[self.agent_pos[0], self.agent_pos[0]+1, \n",
    "                                                             self.agent_pos[1], self.agent_pos[1]+1])\n",
    "        plt.xlim(0, 6)\n",
    "        plt.ylim(0, 6)\n",
    "        plt.grid(True)\n",
    "        plt.show()"
   ]
  },
  {
   "cell_type": "code",
   "execution_count": null,
   "metadata": {},
   "outputs": [],
   "source": []
  }
 ],
 "metadata": {
  "kernelspec": {
   "display_name": "Python 3",
   "language": "python",
   "name": "python3"
  },
  "language_info": {
   "codemirror_mode": {
    "name": "ipython",
    "version": 3
   },
   "file_extension": ".py",
   "mimetype": "text/x-python",
   "name": "python",
   "nbconvert_exporter": "python",
   "pygments_lexer": "ipython3",
   "version": "3.11.4"
  }
 },
 "nbformat": 4,
 "nbformat_minor": 2
}
